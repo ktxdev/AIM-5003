{
 "cells": [
  {
   "cell_type": "markdown",
   "metadata": {},
   "source": [
    "### 1. Find the projection of x on y, and the projection of y on x. Do they have the same length? In what condition will they be same?\n",
    "#### `x = np.array([ 3, -4,  0])`\n",
    "#### `y = np.array([10,  5, -6])`"
   ]
  },
  {
   "cell_type": "code",
   "execution_count": 4,
   "metadata": {},
   "outputs": [
    {
     "name": "stdout",
     "output_type": "stream",
     "text": [
      "Projection of x on y:  [ 0.62111801  0.31055901 -0.37267081]\n",
      "Projection of y on x:  [ 1.2 -1.6  0. ]\n",
      "Length of proj_x_on_y:  0.7881104062391006\n",
      "Length of proj_y_on_x:  2.0\n"
     ]
    }
   ],
   "source": [
    "import numpy as np\n",
    "\n",
    "x = np.array([3, -4, 0])\n",
    "y = np.array([10, 5, -6])\n",
    "\n",
    "proj_x_on_y = (x.dot(y)/ y.dot(y)) * y\n",
    "proj_y_on_x = (y.dot(x) / x.dot(x)) * x\n",
    "\n",
    "print(\"Projection of x on y: \", proj_x_on_y)\n",
    "print(\"Projection of y on x: \", proj_y_on_x)\n",
    "\n",
    "print(\"Length of proj_x_on_y: \", np.linalg.norm(proj_x_on_y))\n",
    "print(\"Length of proj_y_on_x: \", np.linalg.norm(proj_y_on_x))"
   ]
  },
  {
   "cell_type": "markdown",
   "metadata": {},
   "source": [
    "The lengths of the projections of y onto x and x onto y will be the same under specific conditions relating to the magnitudes and relative directions of the two vectors:\n",
    "\n",
    "1. **Equal Magnitudes and Parallel Directions:** If x and y are parallel and have the same magnitude, the projections of each vector onto the other will also have the same magnitude. In mathematical terms, this means $$x = ky$$ or $$y=kx$$ where k is a non-zero scalar, and $$||x|| = ||y||$$\n",
    "2. **Equal Angles with Respect to a Reference Vector:** If the vectors x and y make the same angle with respect to any third vector (not necessarily in the plane of x and y), and they have equal magnitude, their projections onto each other will have equal lengths. This is a more geometric interpretation and harder to encounter in practice unless specifically constructed.\n",
    "3. **Unit Vectors with Specific Angular Relationship:** If both x and y are unit vectors and arranged such that their projections onto each other are equivalent (through specific angular relationships or symmetrical arrangement), their projection lengths would be the same.\n",
    "\n",
    "### 2. Find the angle of x and y, and the angle of the two projections. Are the two angles same?"
   ]
  },
  {
   "cell_type": "code",
   "execution_count": 5,
   "metadata": {},
   "outputs": [
    {
     "name": "stdout",
     "output_type": "stream",
     "text": [
      "X and Y: 0.15762208124782012\n",
      "Proj X on Y And Proj Y on X: 0.1576220812478202\n"
     ]
    }
   ],
   "source": [
    "xy_angle = x.dot(y) / (np.linalg.norm(x) * np.linalg.norm(y))\n",
    "proj_xy_proj_yx_angle = proj_x_on_y.dot(proj_y_on_x) / (np.linalg.norm(proj_x_on_y) * np.linalg.norm(proj_y_on_x))\n",
    "\n",
    "print(\"X and Y:\", xy_angle)\n",
    "print(\"Proj X on Y And Proj Y on X:\", proj_xy_proj_yx_angle)"
   ]
  }
 ],
 "metadata": {
  "kernelspec": {
   "display_name": "base",
   "language": "python",
   "name": "python3"
  },
  "language_info": {
   "codemirror_mode": {
    "name": "ipython",
    "version": 3
   },
   "file_extension": ".py",
   "mimetype": "text/x-python",
   "name": "python",
   "nbconvert_exporter": "python",
   "pygments_lexer": "ipython3",
   "version": "3.11.7"
  }
 },
 "nbformat": 4,
 "nbformat_minor": 2
}
