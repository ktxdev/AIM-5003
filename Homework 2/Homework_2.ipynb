{
 "cells": [
  {
   "cell_type": "markdown",
   "metadata": {},
   "source": [
    "## 1. Using Numpy to invert the matrices:\n",
    "\n",
    "$$\n",
    "\\mathbf{A} = \n",
    "\\begin{bmatrix}\n",
    "3 & -7 & 45 & 21 \\\\\n",
    "12 & 11 & 10 & 17 \\\\\n",
    "6 & 25 & -80 & -24 \\\\\n",
    "17 & 55 & -9 & 7 \\\\\n",
    "\\end{bmatrix}\n",
    ";\n",
    "\\mathbf{B} = \n",
    "\\begin{bmatrix}\n",
    "1 & 1 & 1 & 1 \\\\\n",
    "1 & 2 & 2 & 2 \\\\\n",
    "2 & 3 & 4 & 4 \\\\\n",
    "4 & 5 & 6 & 7 \\\\\n",
    "\\end{bmatrix}\n",
    "$$\n"
   ]
  },
  {
   "cell_type": "code",
   "execution_count": 5,
   "metadata": {},
   "outputs": [
    {
     "name": "stdout",
     "output_type": "stream",
     "text": [
      "Inverse of A\n"
     ]
    },
    {
     "data": {
      "text/plain": [
       "array([[-2.73050828e+00,  1.48528059e+00, -1.34659614e+00,\n",
       "        -3.24862006e-02],\n",
       "       [ 4.82405704e-01, -2.78748850e-01,  2.33210672e-01,\n",
       "         2.93238270e-02],\n",
       "       [-6.54036339e-01,  3.24287029e-01, -3.40616375e-01,\n",
       "         6.72723091e-03],\n",
       "       [ 2.00000000e+00, -1.00000000e+00,  1.00000000e+00,\n",
       "        -1.11022302e-16]])"
      ]
     },
     "execution_count": 5,
     "metadata": {},
     "output_type": "execute_result"
    }
   ],
   "source": [
    "import numpy as np\n",
    "\n",
    "A = np.array([\n",
    "    [3, -7, 45, 21], \n",
    "    [12, 11, 10, 17], \n",
    "    [6, 25, -80, -24], \n",
    "    [17, 55, -9, 7]\n",
    "    ])\n",
    "\n",
    "B = np.array([\n",
    "    [1, 1, 1, 1],\n",
    "    [1, 2, 2, 2],\n",
    "    [2, 3, 4, 4],\n",
    "    [4, 5, 6, 7]\n",
    "    ])\n",
    "\n",
    "print(\"Inverse of A\")\n",
    "np.linalg.inv(A)"
   ]
  },
  {
   "cell_type": "code",
   "execution_count": 6,
   "metadata": {},
   "outputs": [
    {
     "name": "stdout",
     "output_type": "stream",
     "text": [
      "Inverse of B\n"
     ]
    },
    {
     "data": {
      "text/plain": [
       "array([[ 2.00000000e+00, -1.00000000e+00,  4.44089210e-16,\n",
       "        -1.85037171e-16],\n",
       "       [-1.48029737e-16,  2.00000000e+00, -1.00000000e+00,\n",
       "         1.48029737e-16],\n",
       "       [ 1.00000000e+00, -1.00000000e+00,  2.00000000e+00,\n",
       "        -1.00000000e+00],\n",
       "       [-2.00000000e+00, -0.00000000e+00, -1.00000000e+00,\n",
       "         1.00000000e+00]])"
      ]
     },
     "execution_count": 6,
     "metadata": {},
     "output_type": "execute_result"
    }
   ],
   "source": [
    "print(\"Inverse of B\")\n",
    "np.linalg.inv(B)"
   ]
  }
 ],
 "metadata": {
  "kernelspec": {
   "display_name": "base",
   "language": "python",
   "name": "python3"
  },
  "language_info": {
   "codemirror_mode": {
    "name": "ipython",
    "version": 3
   },
   "file_extension": ".py",
   "mimetype": "text/x-python",
   "name": "python",
   "nbconvert_exporter": "python",
   "pygments_lexer": "ipython3",
   "version": "3.11.7"
  }
 },
 "nbformat": 4,
 "nbformat_minor": 2
}
