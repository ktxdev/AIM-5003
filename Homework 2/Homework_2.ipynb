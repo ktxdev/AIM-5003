{
 "cells": [
  {
   "cell_type": "markdown",
   "metadata": {},
   "source": [
    "## 1. Using Numpy to invert the matrices:\n",
    "\n",
    "$$\n",
    "\\mathbf{A} = \n",
    "\\begin{bmatrix}\n",
    "3 & -7 & 45 & 21 \\\\\n",
    "12 & 11 & 10 & 17 \\\\\n",
    "6 & 25 & -80 & -24 \\\\\n",
    "17 & 55 & -9 & 7 \\\\\n",
    "\\end{bmatrix}\n",
    ";\n",
    "\\mathbf{B} = \n",
    "\\begin{bmatrix}\n",
    "1 & 1 & 1 & 1 \\\\\n",
    "1 & 2 & 2 & 2 \\\\\n",
    "2 & 3 & 4 & 4 \\\\\n",
    "4 & 5 & 6 & 7 \\\\\n",
    "\\end{bmatrix}\n",
    "$$\n"
   ]
  },
  {
   "cell_type": "code",
   "execution_count": 5,
   "metadata": {},
   "outputs": [
    {
     "name": "stdout",
     "output_type": "stream",
     "text": [
      "Inverse of A\n"
     ]
    },
    {
     "data": {
      "text/plain": [
       "array([[-2.73050828e+00,  1.48528059e+00, -1.34659614e+00,\n",
       "        -3.24862006e-02],\n",
       "       [ 4.82405704e-01, -2.78748850e-01,  2.33210672e-01,\n",
       "         2.93238270e-02],\n",
       "       [-6.54036339e-01,  3.24287029e-01, -3.40616375e-01,\n",
       "         6.72723091e-03],\n",
       "       [ 2.00000000e+00, -1.00000000e+00,  1.00000000e+00,\n",
       "        -1.11022302e-16]])"
      ]
     },
     "execution_count": 5,
     "metadata": {},
     "output_type": "execute_result"
    }
   ],
   "source": [
    "import numpy as np\n",
    "\n",
    "A = np.array([\n",
    "    [3, -7, 45, 21], \n",
    "    [12, 11, 10, 17], \n",
    "    [6, 25, -80, -24], \n",
    "    [17, 55, -9, 7]\n",
    "    ])\n",
    "\n",
    "B = np.array([\n",
    "    [1, 1, 1, 1],\n",
    "    [1, 2, 2, 2],\n",
    "    [2, 3, 4, 4],\n",
    "    [4, 5, 6, 7]\n",
    "    ])\n",
    "\n",
    "print(\"Inverse of A\")\n",
    "np.linalg.inv(A)"
   ]
  },
  {
   "cell_type": "code",
   "execution_count": 6,
   "metadata": {},
   "outputs": [
    {
     "name": "stdout",
     "output_type": "stream",
     "text": [
      "Inverse of B\n"
     ]
    },
    {
     "data": {
      "text/plain": [
       "array([[ 2.00000000e+00, -1.00000000e+00,  4.44089210e-16,\n",
       "        -1.85037171e-16],\n",
       "       [-1.48029737e-16,  2.00000000e+00, -1.00000000e+00,\n",
       "         1.48029737e-16],\n",
       "       [ 1.00000000e+00, -1.00000000e+00,  2.00000000e+00,\n",
       "        -1.00000000e+00],\n",
       "       [-2.00000000e+00, -0.00000000e+00, -1.00000000e+00,\n",
       "         1.00000000e+00]])"
      ]
     },
     "execution_count": 6,
     "metadata": {},
     "output_type": "execute_result"
    }
   ],
   "source": [
    "print(\"Inverse of B\")\n",
    "np.linalg.inv(B)"
   ]
  },
  {
   "cell_type": "markdown",
   "metadata": {},
   "source": [
    "## 2. Solve the following equations with the 3 methods in our class:\n",
    "\n",
    "$$\n",
    "\\begin{bmatrix}\n",
    "12 & -2 & 3 & 1 \\\\\n",
    "-2 & 15 & 6 & -3 \\\\\n",
    "1 & 6 & 20 & -4 \\\\\n",
    "0 & -3 & 2 & 9 \\\\\n",
    "\\end{bmatrix}\n",
    "\\begin{bmatrix}\n",
    "x_1 \\\\\n",
    "x_2 \\\\\n",
    "x_3 \\\\\n",
    "x_4 \\\\\n",
    "\\end{bmatrix}\n",
    " = \n",
    "\\begin{bmatrix}\n",
    "0 \\\\\n",
    "0 \\\\\n",
    "20 \\\\\n",
    "0 \\\\\n",
    "\\end{bmatrix}\n",
    "$$"
   ]
  },
  {
   "cell_type": "code",
   "execution_count": 23,
   "metadata": {},
   "outputs": [],
   "source": [
    "A = np.array([\n",
    "    [12, -2, 3, 1],\n",
    "    [-2, 15, 6, -3],\n",
    "    [1, 6, 20, -4],\n",
    "    [0, -3, 2, 9]])\n",
    "\n",
    "y = np.array([0, 0, 20, 0])"
   ]
  },
  {
   "cell_type": "markdown",
   "metadata": {},
   "source": [
    "### 2a. Using np.linalg.solve"
   ]
  },
  {
   "cell_type": "code",
   "execution_count": 8,
   "metadata": {},
   "outputs": [
    {
     "data": {
      "text/plain": [
       "array([-0.33439845, -0.57219291,  1.10128558, -0.4354611 ])"
      ]
     },
     "execution_count": 8,
     "metadata": {},
     "output_type": "execute_result"
    }
   ],
   "source": [
    "from numpy.linalg import solve\n",
    "\n",
    "solve(A, y)"
   ]
  },
  {
   "cell_type": "markdown",
   "metadata": {},
   "source": [
    "### 2b. Using np.linalg.inv and np.linalg.dot"
   ]
  },
  {
   "cell_type": "code",
   "execution_count": 12,
   "metadata": {},
   "outputs": [
    {
     "name": "stdout",
     "output_type": "stream",
     "text": [
      "26914.000000000025\n",
      "[-0.33439845 -0.57219291  1.10128558 -0.4354611 ]\n"
     ]
    }
   ],
   "source": [
    "from numpy.linalg import inv, det\n",
    "\n",
    "A_inv = inv(A)\n",
    "\n",
    "A_det = det(A)\n",
    "\n",
    "if A_det != 0:\n",
    "    print(np.dot(A_inv, y))"
   ]
  },
  {
   "cell_type": "markdown",
   "metadata": {},
   "source": [
    "### 2c. Using row reduction"
   ]
  },
  {
   "cell_type": "code",
   "execution_count": 51,
   "metadata": {},
   "outputs": [
    {
     "name": "stdout",
     "output_type": "stream",
     "text": [
      "[-0.33439845 -0.57219291  1.10128558 -0.4354611 ]\n"
     ]
    }
   ],
   "source": [
    "#  Obtain the augmented matrix\n",
    "augmented_matrix = np.concatenate((A, y.reshape(4, 1)), axis=1)\n",
    "\n",
    "# Turning first element in row 2 to 0\n",
    "augmented_matrix[1] = augmented_matrix[0] + 6 * augmented_matrix[1]\n",
    "\n",
    "# Turning first element in row 3 to 0\n",
    "augmented_matrix[2] = augmented_matrix[0] + (-12) * augmented_matrix[2]\n",
    "\n",
    "# Turning second element in row 3 to 0\n",
    "augmented_matrix[2] = 37 * augmented_matrix[1] + 44 * augmented_matrix[2]\n",
    "\n",
    "# Turning second element in row 4 to 0\n",
    "augmented_matrix[3] = 3 * augmented_matrix[1] + 88 * augmented_matrix[3]\n",
    "\n",
    "# Turning third element in row 4 to 0\n",
    "augmented_matrix[3] = 293 * augmented_matrix[2] + 8985 * augmented_matrix[3]\n",
    "\n",
    "# x4 \n",
    "x4 = augmented_matrix[3, 4] / augmented_matrix[3, 3]\n",
    "\n",
    "# x3\n",
    "x3 = (augmented_matrix[2, 4] - x4 * augmented_matrix[2, 3]) / augmented_matrix[2, 2]\n",
    "\n",
    "# x2\n",
    "x2 = (augmented_matrix[1, 4] - x3 * augmented_matrix[1, 2] - x4 * augmented_matrix[1, 3]) / augmented_matrix[1, 1]\n",
    "\n",
    "# x1\n",
    "x1 = (augmented_matrix[0, 4] - x2 * augmented_matrix[0, 1] - x3 * augmented_matrix[0, 2] - x4 * augmented_matrix[0, 3]) / augmented_matrix[0, 0]\n",
    "\n",
    "solution = np.array([x1, x2, x3, x4])\n",
    "\n",
    "print(solution)"
   ]
  },
  {
   "cell_type": "markdown",
   "metadata": {},
   "source": [
    "## 3. Write a function calc_similarity(s1,s2) where s1 and s2 are strings (may have different size). From s1 and s2, the function should construct two vectors, v1 and v2, where v1[0] is the number of a’s in s1, v1[1] is the number b’s in s1, and so on until v1[25], which is the number of z’s in v1. The vector v2 should be similarly constructed from s2. The output should be cos(θ)."
   ]
  },
  {
   "cell_type": "code",
   "execution_count": 67,
   "metadata": {},
   "outputs": [
    {
     "name": "stdout",
     "output_type": "stream",
     "text": [
      "0.7756992985103194\n"
     ]
    }
   ],
   "source": [
    "def calc_similarity(s1, s2):\n",
    "    v1 = np.zeros((25,), dtype=int)\n",
    "    v2 = np.zeros((25,), dtype=int)\n",
    "\n",
    "    for c in s1.lower().replace(\" \", \"\"):\n",
    "        v1[ord(c) - ord(\"a\")] += 1\n",
    "\n",
    "    for c in s2.lower().replace(\" \", \"\"):\n",
    "        v2[ord(c) - ord(\"a\")] += 1\n",
    "\n",
    "    return v1.dot(v2) / (np.linalg.norm(v1) * np.linalg.norm(v2))\n",
    "\n",
    "s1 = \"Write a function calcsimilaritys where s and s\"\n",
    "s2 = \"number of as in s v is the number bs in s and s\"\n",
    "\n",
    "print(calc_similarity(s1, s2))"
   ]
  }
 ],
 "metadata": {
  "kernelspec": {
   "display_name": "base",
   "language": "python",
   "name": "python3"
  },
  "language_info": {
   "codemirror_mode": {
    "name": "ipython",
    "version": 3
   },
   "file_extension": ".py",
   "mimetype": "text/x-python",
   "name": "python",
   "nbconvert_exporter": "python",
   "pygments_lexer": "ipython3",
   "version": "3.11.7"
  }
 },
 "nbformat": 4,
 "nbformat_minor": 2
}
